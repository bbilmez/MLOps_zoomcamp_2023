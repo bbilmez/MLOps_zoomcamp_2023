{
 "cells": [
  {
   "attachments": {},
   "cell_type": "markdown",
   "metadata": {},
   "source": [
    "Q1. Install the Package and check its version\n"
   ]
  },
  {
   "attachments": {},
   "cell_type": "markdown",
   "metadata": {},
   "source": [
    "wandb --version"
   ]
  },
  {
   "attachments": {},
   "cell_type": "markdown",
   "metadata": {},
   "source": [
    "Q2. Download and preprocess the data"
   ]
  },
  {
   "attachments": {},
   "cell_type": "markdown",
   "metadata": {},
   "source": [
    "python preprocess_data.py \\\n",
    "  --wandb_project WANDB_HOMEWORK2 \\\n",
    "  --wandb_entity banusacli \\\n",
    "  --raw_data_path /Users/banubilmez/Courses/MLOps/MLOps-zoomcamp-2023/homework_2/wandb \\\n",
    "  --dest_path ./output"
   ]
  },
  {
   "attachments": {},
   "cell_type": "markdown",
   "metadata": {},
   "source": [
    "Q3. Train a model with Weights & Biases logging"
   ]
  },
  {
   "attachments": {},
   "cell_type": "markdown",
   "metadata": {},
   "source": [
    "python train.py \\\n",
    "  --wandb_project WANDB_HOMEWORK2 \\\n",
    "  --wandb_entity banusacli \\\n",
    "  --data_artifact banusacli/WANDB_HOMEWORK2/NYC-Taxi:v0 \\"
   ]
  },
  {
   "attachments": {},
   "cell_type": "markdown",
   "metadata": {},
   "source": [
    "Q4. Tune model hyperparameters"
   ]
  },
  {
   "attachments": {},
   "cell_type": "markdown",
   "metadata": {},
   "source": [
    "python sweep.py \\\n",
    "  --wandb_project WANDB_HOMEWORK2 \\\n",
    "  --wandb_entity banusacli \\\n",
    "  --data_artifact banusacli/WANDB_HOMEWORK2/NYC-Taxi:v0 \\"
   ]
  },
  {
   "attachments": {},
   "cell_type": "markdown",
   "metadata": {},
   "source": [
    "Q5. Link the best model to the model registry"
   ]
  },
  {
   "attachments": {},
   "cell_type": "markdown",
   "metadata": {},
   "source": [
    "Model giving the lowest mse was registered as best model."
   ]
  }
 ],
 "metadata": {
  "kernelspec": {
   "display_name": "Python 3",
   "language": "python",
   "name": "python3"
  },
  "language_info": {
   "codemirror_mode": {
    "name": "ipython",
    "version": 3
   },
   "file_extension": ".py",
   "mimetype": "text/x-python",
   "name": "python",
   "nbconvert_exporter": "python",
   "pygments_lexer": "ipython3",
   "version": "3.10.4"
  },
  "orig_nbformat": 4
 },
 "nbformat": 4,
 "nbformat_minor": 2
}
